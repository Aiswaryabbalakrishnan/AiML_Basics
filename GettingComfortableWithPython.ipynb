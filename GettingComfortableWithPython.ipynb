{
  "nbformat": 4,
  "nbformat_minor": 0,
  "metadata": {
    "colab": {
      "provenance": [],
      "toc_visible": true
    },
    "kernelspec": {
      "name": "python3",
      "display_name": "Python 3"
    },
    "language_info": {
      "name": "python"
    }
  },
  "cells": [
    {
      "cell_type": "markdown",
      "source": [
        "#Data Type"
      ],
      "metadata": {
        "id": "akrJNIHCHFYP"
      }
    },
    {
      "cell_type": "code",
      "source": [
        "a=9\n",
        "b=5\n",
        "print(a+b)"
      ],
      "metadata": {
        "id": "26hkfmw_Hbrb",
        "colab": {
          "base_uri": "https://localhost:8080/"
        },
        "outputId": "0c051183-f206-4feb-92f2-85288dcf421e"
      },
      "execution_count": null,
      "outputs": [
        {
          "output_type": "stream",
          "name": "stdout",
          "text": [
            "14\n"
          ]
        }
      ]
    },
    {
      "cell_type": "code",
      "source": [
        "var=4+5j\n",
        "type(var)\n"
      ],
      "metadata": {
        "id": "N8vWFcsv-C4U",
        "colab": {
          "base_uri": "https://localhost:8080/"
        },
        "outputId": "e7412070-a59b-45b0-9764-4d649faf585d"
      },
      "execution_count": null,
      "outputs": [
        {
          "output_type": "execute_result",
          "data": {
            "text/plain": [
              "complex"
            ]
          },
          "metadata": {},
          "execution_count": 7
        }
      ]
    },
    {
      "cell_type": "code",
      "source": [
        "name=\"Aish\"\n",
        "age=30\n",
        "a=\"My name is {} and I'm {} years old\"\n",
        "print(a.format(name,age))\n",
        "print(\"My name is {name} and I'm {age} year old\".format(name='Aish',age='30'))"
      ],
      "metadata": {
        "colab": {
          "base_uri": "https://localhost:8080/"
        },
        "id": "uuzSM1jvCZ6P",
        "outputId": "7729982d-cbab-4588-c65a-788646ae3123"
      },
      "execution_count": null,
      "outputs": [
        {
          "output_type": "stream",
          "name": "stdout",
          "text": [
            "My name is Aish and I'm 30 years old\n",
            "My name is Aish and I'm 30 year old\n"
          ]
        }
      ]
    },
    {
      "cell_type": "code",
      "source": [],
      "metadata": {
        "id": "qhUX4n8AIQJo"
      },
      "execution_count": null,
      "outputs": []
    },
    {
      "cell_type": "markdown",
      "source": [
        "# List, Set, Tuples, Dictionary\n"
      ],
      "metadata": {
        "id": "mOUCuzMvJj8G"
      }
    },
    {
      "cell_type": "markdown",
      "source": [
        "List- can store multiple datatypes, Array - can store only data with same datatypes"
      ],
      "metadata": {
        "id": "qCkZAHLyKpBP"
      }
    },
    {
      "cell_type": "markdown",
      "source": [
        "**List**"
      ],
      "metadata": {
        "id": "zMWjDZjcK6iX"
      }
    },
    {
      "cell_type": "code",
      "source": [
        "d=[1,\"Aish\",8.55]\n",
        "d"
      ],
      "metadata": {
        "colab": {
          "base_uri": "https://localhost:8080/"
        },
        "id": "-C4xUD1tK7ma",
        "outputId": "a73e60d8-f2e7-44ad-9d7e-896f4adea792"
      },
      "execution_count": null,
      "outputs": [
        {
          "output_type": "execute_result",
          "data": {
            "text/plain": [
              "[1, 'Aish', 8.55]"
            ]
          },
          "metadata": {},
          "execution_count": 12
        }
      ]
    },
    {
      "cell_type": "code",
      "source": [
        "d[1]"
      ],
      "metadata": {
        "colab": {
          "base_uri": "https://localhost:8080/",
          "height": 36
        },
        "id": "-rSzAAzHLKSC",
        "outputId": "22543dc9-6d17-435b-ed30-9d09934e3ac8"
      },
      "execution_count": null,
      "outputs": [
        {
          "output_type": "execute_result",
          "data": {
            "text/plain": [
              "'Aish'"
            ],
            "application/vnd.google.colaboratory.intrinsic+json": {
              "type": "string"
            }
          },
          "metadata": {},
          "execution_count": 13
        }
      ]
    },
    {
      "cell_type": "code",
      "source": [
        "d.append('Gok') #this was executed twice\n",
        "d"
      ],
      "metadata": {
        "colab": {
          "base_uri": "https://localhost:8080/"
        },
        "id": "HiUBjYo3LNDt",
        "outputId": "b2f25b1e-9447-4401-c5e0-a0ec3ba59c7c"
      },
      "execution_count": null,
      "outputs": [
        {
          "output_type": "execute_result",
          "data": {
            "text/plain": [
              "[1, 'Aish', 8.55, 'Gok', 'Gok']"
            ]
          },
          "metadata": {},
          "execution_count": 16
        }
      ]
    },
    {
      "cell_type": "code",
      "source": [
        "#Slicing\n",
        "my_list=['a','b','c','d']\n",
        "my_list[1:] #index 1 till end #index before colon is included\n"
      ],
      "metadata": {
        "colab": {
          "base_uri": "https://localhost:8080/"
        },
        "id": "EdCYuU6fLR18",
        "outputId": "9f05619b-82dd-46e2-b693-18346f3dc7dd"
      },
      "execution_count": null,
      "outputs": [
        {
          "output_type": "execute_result",
          "data": {
            "text/plain": [
              "['b', 'c', 'd']"
            ]
          },
          "metadata": {},
          "execution_count": 6
        }
      ]
    },
    {
      "cell_type": "code",
      "source": [
        "my_list[:3] #starting till index 2 #index 3 is excluded"
      ],
      "metadata": {
        "colab": {
          "base_uri": "https://localhost:8080/"
        },
        "id": "zHQGScFAMtZV",
        "outputId": "3ef1f6b5-8b80-441a-d441-5aae50fd5514"
      },
      "execution_count": null,
      "outputs": [
        {
          "output_type": "execute_result",
          "data": {
            "text/plain": [
              "['a', 'b', 'c']"
            ]
          },
          "metadata": {},
          "execution_count": 7
        }
      ]
    },
    {
      "cell_type": "code",
      "source": [
        "my_list[1:3]"
      ],
      "metadata": {
        "colab": {
          "base_uri": "https://localhost:8080/"
        },
        "id": "5lC9jm1BM_TY",
        "outputId": "bd145b56-a921-4956-dd23-f7a6c87a467f"
      },
      "execution_count": null,
      "outputs": [
        {
          "output_type": "execute_result",
          "data": {
            "text/plain": [
              "['b', 'c']"
            ]
          },
          "metadata": {},
          "execution_count": 8
        }
      ]
    },
    {
      "cell_type": "code",
      "source": [
        "my_list[0]='a_'  #update value of list\n",
        "my_list\n"
      ],
      "metadata": {
        "colab": {
          "base_uri": "https://localhost:8080/"
        },
        "id": "Zd29YgpcUcGE",
        "outputId": "30c341cd-8551-4fbb-a864-38c501a29e86"
      },
      "execution_count": null,
      "outputs": [
        {
          "output_type": "execute_result",
          "data": {
            "text/plain": [
              "['a_', 'b', 'c', 'd']"
            ]
          },
          "metadata": {},
          "execution_count": 11
        }
      ]
    },
    {
      "cell_type": "code",
      "source": [
        "#Nested list\n",
        "nest=[1,2,3,[4,5,['Target']]]\n",
        "nest[3][2][0]"
      ],
      "metadata": {
        "colab": {
          "base_uri": "https://localhost:8080/",
          "height": 36
        },
        "id": "sMKVpUSJNKCK",
        "outputId": "6c433757-b6e8-43a0-b756-dbc1f2a17f05"
      },
      "execution_count": null,
      "outputs": [
        {
          "output_type": "execute_result",
          "data": {
            "text/plain": [
              "'Target'"
            ],
            "application/vnd.google.colaboratory.intrinsic+json": {
              "type": "string"
            }
          },
          "metadata": {},
          "execution_count": 24
        }
      ]
    },
    {
      "cell_type": "code",
      "source": [],
      "metadata": {
        "id": "mf_aZSofOg9u"
      },
      "execution_count": null,
      "outputs": []
    },
    {
      "cell_type": "markdown",
      "source": [
        "Tuples"
      ],
      "metadata": {
        "id": "XxwMDVjoTk7Y"
      }
    },
    {
      "cell_type": "code",
      "source": [
        "tup=(2,3,'new') #use round brackets for tuples\n",
        "tup"
      ],
      "metadata": {
        "colab": {
          "base_uri": "https://localhost:8080/"
        },
        "id": "SbVWsnIFT8YU",
        "outputId": "ffa17052-60a6-449c-9799-08a2ed8388b3"
      },
      "execution_count": null,
      "outputs": [
        {
          "output_type": "execute_result",
          "data": {
            "text/plain": [
              "(2, 3, 'new')"
            ]
          },
          "metadata": {},
          "execution_count": 1
        }
      ]
    },
    {
      "cell_type": "code",
      "source": [
        "tup[2]"
      ],
      "metadata": {
        "colab": {
          "base_uri": "https://localhost:8080/",
          "height": 36
        },
        "id": "7ytHUukgUCu1",
        "outputId": "d3b98e2b-6d23-4784-e228-ccecfbd7dd22"
      },
      "execution_count": null,
      "outputs": [
        {
          "output_type": "execute_result",
          "data": {
            "text/plain": [
              "'new'"
            ],
            "application/vnd.google.colaboratory.intrinsic+json": {
              "type": "string"
            }
          },
          "metadata": {},
          "execution_count": 2
        }
      ]
    },
    {
      "cell_type": "code",
      "source": [
        "tup[2]='change new'#cannot change the elements. Difference between List and tuple is this."
      ],
      "metadata": {
        "colab": {
          "base_uri": "https://localhost:8080/",
          "height": 141
        },
        "id": "ip1ycExlUJuq",
        "outputId": "1c1b2588-25bf-4970-874a-f8106f5630ef"
      },
      "execution_count": null,
      "outputs": [
        {
          "output_type": "error",
          "ename": "TypeError",
          "evalue": "'tuple' object does not support item assignment",
          "traceback": [
            "\u001b[0;31m---------------------------------------------------------------------------\u001b[0m",
            "\u001b[0;31mTypeError\u001b[0m                                 Traceback (most recent call last)",
            "\u001b[0;32m<ipython-input-3-e008e096731a>\u001b[0m in \u001b[0;36m<cell line: 1>\u001b[0;34m()\u001b[0m\n\u001b[0;32m----> 1\u001b[0;31m \u001b[0mtup\u001b[0m\u001b[0;34m[\u001b[0m\u001b[0;36m2\u001b[0m\u001b[0;34m]\u001b[0m\u001b[0;34m=\u001b[0m\u001b[0;34m'change new'\u001b[0m\u001b[0;34m\u001b[0m\u001b[0;34m\u001b[0m\u001b[0m\n\u001b[0m",
            "\u001b[0;31mTypeError\u001b[0m: 'tuple' object does not support item assignment"
          ]
        }
      ]
    },
    {
      "cell_type": "markdown",
      "source": [
        "Set"
      ],
      "metadata": {
        "id": "PZmFpaPAVIU2"
      }
    },
    {
      "cell_type": "code",
      "source": [
        "s={1,2,'set example'}\n",
        "s"
      ],
      "metadata": {
        "colab": {
          "base_uri": "https://localhost:8080/"
        },
        "id": "qcWB4iGwVJ9z",
        "outputId": "4e1d8eb2-c8f6-4fe3-96fd-335786c78ea3"
      },
      "execution_count": null,
      "outputs": [
        {
          "output_type": "execute_result",
          "data": {
            "text/plain": [
              "{1, 2, 'set example'}"
            ]
          },
          "metadata": {},
          "execution_count": 12
        }
      ]
    },
    {
      "cell_type": "code",
      "source": [
        "l=[1,1,2,2,4,4,5,6,7,7,8,9,9]\n",
        "t=(1,1,2,2,4,4,5,6,7,7,8,9,9) #cannot change the elements\n",
        "s={1,1,2,2,4,4,5,6,7,7,8,9,9}\n",
        "#sets does not have index and we cannot grab elements or change elements\n",
        "# sets removes duplicates automatically\n",
        "print(l)\n",
        "print(t)\n",
        "print(s)"
      ],
      "metadata": {
        "colab": {
          "base_uri": "https://localhost:8080/"
        },
        "id": "d__L1-X2WOhl",
        "outputId": "527042d6-bc7b-4bf7-f83c-11e4284af12f"
      },
      "execution_count": null,
      "outputs": [
        {
          "output_type": "stream",
          "name": "stdout",
          "text": [
            "[1, 1, 2, 2, 4, 4, 5, 6, 7, 7, 8, 9, 9]\n",
            "(1, 1, 2, 2, 4, 4, 5, 6, 7, 7, 8, 9, 9)\n",
            "{1, 2, 4, 5, 6, 7, 8, 9}\n"
          ]
        }
      ]
    },
    {
      "cell_type": "markdown",
      "source": [
        "Disctionary"
      ],
      "metadata": {
        "id": "rMULgTJRX3cB"
      }
    },
    {
      "cell_type": "code",
      "source": [
        "dict={'name':'Aish','age':'30','job':'SE','education':'M.Tech','married':'yes'}\n",
        "dict"
      ],
      "metadata": {
        "colab": {
          "base_uri": "https://localhost:8080/"
        },
        "id": "unD0rGUnX6Qd",
        "outputId": "a7cabcf0-1acf-48ee-f6f8-9ec3dc81314b"
      },
      "execution_count": null,
      "outputs": [
        {
          "output_type": "execute_result",
          "data": {
            "text/plain": [
              "{'name': 'Aish',\n",
              " 'age': '30',\n",
              " 'job': 'SE',\n",
              " 'education': 'M.Tech',\n",
              " 'married': 'yes'}"
            ]
          },
          "metadata": {},
          "execution_count": 16
        }
      ]
    },
    {
      "cell_type": "code",
      "source": [
        "dict['job']"
      ],
      "metadata": {
        "colab": {
          "base_uri": "https://localhost:8080/",
          "height": 36
        },
        "id": "857WO-mpYe4C",
        "outputId": "8b14e9cb-ae99-439c-8721-146be486409e"
      },
      "execution_count": null,
      "outputs": [
        {
          "output_type": "execute_result",
          "data": {
            "text/plain": [
              "'SE'"
            ],
            "application/vnd.google.colaboratory.intrinsic+json": {
              "type": "string"
            }
          },
          "metadata": {},
          "execution_count": 17
        }
      ]
    },
    {
      "cell_type": "code",
      "source": [
        "dict['job']='PM'\n",
        "dict"
      ],
      "metadata": {
        "colab": {
          "base_uri": "https://localhost:8080/"
        },
        "id": "15TeblWiYkni",
        "outputId": "7bd7a9d2-17e7-4d20-e1bb-b3e4b3f2b3d2"
      },
      "execution_count": null,
      "outputs": [
        {
          "output_type": "execute_result",
          "data": {
            "text/plain": [
              "{'name': 'Aish',\n",
              " 'age': '30',\n",
              " 'job': 'PM',\n",
              " 'education': 'M.Tech',\n",
              " 'married': 'yes'}"
            ]
          },
          "metadata": {},
          "execution_count": 18
        }
      ]
    },
    {
      "cell_type": "code",
      "source": [
        "dict.append['key':'test']"
      ],
      "metadata": {
        "colab": {
          "base_uri": "https://localhost:8080/",
          "height": 141
        },
        "id": "9iyYRSZRYs1Z",
        "outputId": "b432c9a4-02c3-4fe4-ddb6-9667f34ab917"
      },
      "execution_count": null,
      "outputs": [
        {
          "output_type": "error",
          "ename": "AttributeError",
          "evalue": "'dict' object has no attribute 'append'",
          "traceback": [
            "\u001b[0;31m---------------------------------------------------------------------------\u001b[0m",
            "\u001b[0;31mAttributeError\u001b[0m                            Traceback (most recent call last)",
            "\u001b[0;32m<ipython-input-19-0dedc5b4cd6f>\u001b[0m in \u001b[0;36m<cell line: 1>\u001b[0;34m()\u001b[0m\n\u001b[0;32m----> 1\u001b[0;31m \u001b[0mdict\u001b[0m\u001b[0;34m.\u001b[0m\u001b[0mappend\u001b[0m\u001b[0;34m[\u001b[0m\u001b[0;34m'key'\u001b[0m\u001b[0;34m:\u001b[0m\u001b[0;34m'test'\u001b[0m\u001b[0;34m]\u001b[0m\u001b[0;34m\u001b[0m\u001b[0;34m\u001b[0m\u001b[0m\n\u001b[0m",
            "\u001b[0;31mAttributeError\u001b[0m: 'dict' object has no attribute 'append'"
          ]
        }
      ]
    },
    {
      "cell_type": "code",
      "source": [
        "dict['gender']='female'  #adding new key values\n",
        "dict"
      ],
      "metadata": {
        "colab": {
          "base_uri": "https://localhost:8080/"
        },
        "id": "jR1MA09wZO_u",
        "outputId": "2f73930f-3eef-4aa1-c9b1-b1c3c5cd36ee"
      },
      "execution_count": null,
      "outputs": [
        {
          "output_type": "execute_result",
          "data": {
            "text/plain": [
              "{'name': 'Aish',\n",
              " 'age': '30',\n",
              " 'job': 'PM',\n",
              " 'education': 'M.Tech',\n",
              " 'married': 'yes',\n",
              " 'gender': 'female'}"
            ]
          },
          "metadata": {},
          "execution_count": 21
        }
      ]
    },
    {
      "cell_type": "markdown",
      "source": [
        "#Operators"
      ],
      "metadata": {
        "id": "I8NY3IGJbfxo"
      }
    },
    {
      "cell_type": "markdown",
      "source": [
        "Comparison operators"
      ],
      "metadata": {
        "id": "YUmk6JvVbjpz"
      }
    },
    {
      "cell_type": "code",
      "source": [
        "10>5"
      ],
      "metadata": {
        "id": "5gvYoFD5bnE0",
        "colab": {
          "base_uri": "https://localhost:8080/"
        },
        "outputId": "ef2a4fb0-29aa-4b40-9cd8-e7e4d6bed588"
      },
      "execution_count": null,
      "outputs": [
        {
          "output_type": "execute_result",
          "data": {
            "text/plain": [
              "True"
            ]
          },
          "metadata": {},
          "execution_count": 1
        }
      ]
    },
    {
      "cell_type": "code",
      "source": [
        "10==10"
      ],
      "metadata": {
        "colab": {
          "base_uri": "https://localhost:8080/"
        },
        "id": "PL7ZR9Y0ZuKA",
        "outputId": "b291649a-7b28-4e52-c32b-65c5b2fe17a5"
      },
      "execution_count": null,
      "outputs": [
        {
          "output_type": "execute_result",
          "data": {
            "text/plain": [
              "True"
            ]
          },
          "metadata": {},
          "execution_count": 3
        }
      ]
    },
    {
      "cell_type": "code",
      "source": [
        "10!=10"
      ],
      "metadata": {
        "colab": {
          "base_uri": "https://localhost:8080/"
        },
        "id": "fZ1vBqzSZ0W4",
        "outputId": "f28007b4-850f-46d0-e4fe-7b663a71143a"
      },
      "execution_count": null,
      "outputs": [
        {
          "output_type": "execute_result",
          "data": {
            "text/plain": [
              "False"
            ]
          },
          "metadata": {},
          "execution_count": 4
        }
      ]
    },
    {
      "cell_type": "code",
      "source": [
        "\"Hello\"==\"Hello\""
      ],
      "metadata": {
        "colab": {
          "base_uri": "https://localhost:8080/"
        },
        "id": "p4a6DK2JaAz0",
        "outputId": "e398e6a1-488b-4cbf-9e2c-18fb847f6267"
      },
      "execution_count": null,
      "outputs": [
        {
          "output_type": "execute_result",
          "data": {
            "text/plain": [
              "True"
            ]
          },
          "metadata": {},
          "execution_count": 5
        }
      ]
    },
    {
      "cell_type": "code",
      "source": [
        "\"Hello\"==\"Hi\""
      ],
      "metadata": {
        "colab": {
          "base_uri": "https://localhost:8080/"
        },
        "id": "rdcaZOiKaSje",
        "outputId": "3d6c295d-587c-4a5f-d828-210029b7953a"
      },
      "execution_count": null,
      "outputs": [
        {
          "output_type": "execute_result",
          "data": {
            "text/plain": [
              "False"
            ]
          },
          "metadata": {},
          "execution_count": 6
        }
      ]
    },
    {
      "cell_type": "markdown",
      "source": [
        "Logical Operator"
      ],
      "metadata": {
        "id": "SRUvQgCMbJaA"
      }
    },
    {
      "cell_type": "code",
      "source": [
        "(1==1)and(1>5)"
      ],
      "metadata": {
        "colab": {
          "base_uri": "https://localhost:8080/"
        },
        "id": "sp-oPNDibKkN",
        "outputId": "5e40efa5-796d-40f3-d0aa-4883ca5972c3"
      },
      "execution_count": null,
      "outputs": [
        {
          "output_type": "execute_result",
          "data": {
            "text/plain": [
              "False"
            ]
          },
          "metadata": {},
          "execution_count": 7
        }
      ]
    },
    {
      "cell_type": "code",
      "source": [
        "(1==1)or(1>5)"
      ],
      "metadata": {
        "colab": {
          "base_uri": "https://localhost:8080/"
        },
        "id": "7tv62xV2behO",
        "outputId": "38e73afb-e92a-45f5-8ec9-64c7fe61cdbe"
      },
      "execution_count": null,
      "outputs": [
        {
          "output_type": "execute_result",
          "data": {
            "text/plain": [
              "True"
            ]
          },
          "metadata": {},
          "execution_count": 8
        }
      ]
    },
    {
      "cell_type": "markdown",
      "source": [
        "# if elif else"
      ],
      "metadata": {
        "id": "TCd57HwUcbYI"
      }
    },
    {
      "cell_type": "code",
      "source": [
        "a=20\n",
        "b=20\n",
        "if (a<b):\n",
        "  print(a,\" is less than \",b)\n",
        "elif(a>b):\n",
        "  print(a,\" is greater than \",b)\n",
        "else:\n",
        "  print(a,\" is equal to \",b)"
      ],
      "metadata": {
        "colab": {
          "base_uri": "https://localhost:8080/"
        },
        "id": "FmWQ-78bciM9",
        "outputId": "2f03047d-db3b-4832-b2c4-a9583d78aa9f"
      },
      "execution_count": null,
      "outputs": [
        {
          "output_type": "stream",
          "name": "stdout",
          "text": [
            "20  is equal to  20\n"
          ]
        }
      ]
    },
    {
      "cell_type": "markdown",
      "source": [
        "# Loops"
      ],
      "metadata": {
        "id": "WtmWGI-7duW5"
      }
    },
    {
      "cell_type": "markdown",
      "source": [
        "**Loops**"
      ],
      "metadata": {
        "id": "puoGFWq3e_CE"
      }
    },
    {
      "cell_type": "markdown",
      "source": [
        "For"
      ],
      "metadata": {
        "id": "O-fc8Wokg81x"
      }
    },
    {
      "cell_type": "code",
      "source": [
        "sequence=[1,5,6,8,14,20]\n",
        "for num in sequence:\n",
        "  print(num)"
      ],
      "metadata": {
        "colab": {
          "base_uri": "https://localhost:8080/"
        },
        "id": "KupZjsnTfByh",
        "outputId": "0667b9a7-8574-42aa-c79b-2fc9a3f69f31"
      },
      "execution_count": null,
      "outputs": [
        {
          "output_type": "stream",
          "name": "stdout",
          "text": [
            "1\n",
            "5\n",
            "6\n",
            "8\n",
            "14\n",
            "20\n"
          ]
        }
      ]
    },
    {
      "cell_type": "code",
      "source": [
        "l=['One','Two','Three']\n",
        "for word in l:\n",
        "  print(word)"
      ],
      "metadata": {
        "colab": {
          "base_uri": "https://localhost:8080/"
        },
        "id": "sY0BqaAXfLy6",
        "outputId": "9aa2b37f-89bf-4fde-a553-5399d7e68bc5"
      },
      "execution_count": null,
      "outputs": [
        {
          "output_type": "stream",
          "name": "stdout",
          "text": [
            "One\n",
            "Two\n",
            "Three\n"
          ]
        }
      ]
    },
    {
      "cell_type": "markdown",
      "source": [
        "While"
      ],
      "metadata": {
        "id": "gx0cCRkKhC5x"
      }
    },
    {
      "cell_type": "code",
      "source": [
        "i=1\n",
        "while i<5:\n",
        "  print(i,\"is less than 5\")\n",
        "  i=i+1 #Exit condition"
      ],
      "metadata": {
        "colab": {
          "base_uri": "https://localhost:8080/"
        },
        "id": "JFjZ-buHfrUY",
        "outputId": "2da1e481-6e21-47f9-b853-9388b680e9f6"
      },
      "execution_count": null,
      "outputs": [
        {
          "output_type": "stream",
          "name": "stdout",
          "text": [
            "1 is less than 5\n",
            "2 is less than 5\n",
            "3 is less than 5\n",
            "4 is less than 5\n"
          ]
        }
      ]
    },
    {
      "cell_type": "markdown",
      "source": [
        "Range\n"
      ],
      "metadata": {
        "id": "vcRQxlT7hOnJ"
      }
    },
    {
      "cell_type": "code",
      "source": [
        "r=range(0,7)"
      ],
      "metadata": {
        "id": "iI8fuA1FhP-0"
      },
      "execution_count": null,
      "outputs": []
    },
    {
      "cell_type": "code",
      "source": [
        "list(r)"
      ],
      "metadata": {
        "colab": {
          "base_uri": "https://localhost:8080/"
        },
        "id": "gA_qAImNiEtL",
        "outputId": "468b9b2e-4511-4326-f9d8-40218905cf60"
      },
      "execution_count": null,
      "outputs": [
        {
          "output_type": "execute_result",
          "data": {
            "text/plain": [
              "[0, 1, 2, 3, 4, 5, 6]"
            ]
          },
          "metadata": {},
          "execution_count": 19
        }
      ]
    },
    {
      "cell_type": "code",
      "source": [
        "tuple(r)"
      ],
      "metadata": {
        "colab": {
          "base_uri": "https://localhost:8080/"
        },
        "id": "USG_b4BTiKnh",
        "outputId": "81f04b74-efc5-4825-834f-63bdd70efa86"
      },
      "execution_count": null,
      "outputs": [
        {
          "output_type": "execute_result",
          "data": {
            "text/plain": [
              "(0, 1, 2, 3, 4, 5, 6)"
            ]
          },
          "metadata": {},
          "execution_count": 20
        }
      ]
    },
    {
      "cell_type": "code",
      "source": [
        "set(r)"
      ],
      "metadata": {
        "colab": {
          "base_uri": "https://localhost:8080/"
        },
        "id": "8aADathWiM9v",
        "outputId": "1e02652a-109f-462e-fb74-9be3f306f372"
      },
      "execution_count": null,
      "outputs": [
        {
          "output_type": "execute_result",
          "data": {
            "text/plain": [
              "{0, 1, 2, 3, 4, 5, 6}"
            ]
          },
          "metadata": {},
          "execution_count": 21
        }
      ]
    },
    {
      "cell_type": "code",
      "source": [
        "for n in r:\n",
        "  print('Aish')"
      ],
      "metadata": {
        "colab": {
          "base_uri": "https://localhost:8080/"
        },
        "id": "4j6IPnxziPHa",
        "outputId": "85cd7432-169d-4b74-ea5d-534a85b857a0"
      },
      "execution_count": null,
      "outputs": [
        {
          "output_type": "stream",
          "name": "stdout",
          "text": [
            "Aish\n",
            "Aish\n",
            "Aish\n",
            "Aish\n",
            "Aish\n",
            "Aish\n",
            "Aish\n"
          ]
        }
      ]
    },
    {
      "cell_type": "markdown",
      "source": [
        "# List Comprehension"
      ],
      "metadata": {
        "id": "m7aJ7rHBi15n"
      }
    },
    {
      "cell_type": "code",
      "source": [
        "out=[]\n",
        "seq=[1,2,3,4]\n",
        "for n in seq:\n",
        "  out.append(n**2)\n",
        "out"
      ],
      "metadata": {
        "colab": {
          "base_uri": "https://localhost:8080/"
        },
        "id": "MhAoozgmigmN",
        "outputId": "97c00e6a-bd7f-453c-9c48-bd208e3639e9"
      },
      "execution_count": null,
      "outputs": [
        {
          "output_type": "execute_result",
          "data": {
            "text/plain": [
              "[1, 4, 9, 16]"
            ]
          },
          "metadata": {},
          "execution_count": 26
        }
      ]
    },
    {
      "cell_type": "code",
      "source": [
        "out=[n**2 for n in seq]  #single line\n",
        "out"
      ],
      "metadata": {
        "colab": {
          "base_uri": "https://localhost:8080/"
        },
        "id": "ABAphNASj2Wt",
        "outputId": "afe12d85-ac81-4df7-de3a-7bedfc3a1e89"
      },
      "execution_count": null,
      "outputs": [
        {
          "output_type": "execute_result",
          "data": {
            "text/plain": [
              "[1, 4, 9, 16]"
            ]
          },
          "metadata": {},
          "execution_count": 28
        }
      ]
    },
    {
      "cell_type": "markdown",
      "source": [
        "Similar function in c#\n",
        "var foo = new List<int>{ 1, 2, 3};\n",
        "var bar = foo.ConvertAll(x => x * 2); // list comprehension"
      ],
      "metadata": {
        "id": "Sgk_oBL2opoR"
      }
    },
    {
      "cell_type": "markdown",
      "source": [
        "#Functions"
      ],
      "metadata": {
        "id": "aY2szZlOl8l3"
      }
    },
    {
      "cell_type": "code",
      "source": [
        "def add(num1,num2):\n",
        "  '''This function performs addition''' # documentation string\n",
        "  return(num1+num2)"
      ],
      "metadata": {
        "id": "W-cvhHLZl_YI"
      },
      "execution_count": null,
      "outputs": []
    },
    {
      "cell_type": "code",
      "source": [
        "add(5,3)"
      ],
      "metadata": {
        "colab": {
          "base_uri": "https://localhost:8080/"
        },
        "id": "_T400v79pRT5",
        "outputId": "a220f294-1343-45bd-b232-514fb9127423"
      },
      "execution_count": null,
      "outputs": [
        {
          "output_type": "execute_result",
          "data": {
            "text/plain": [
              "8"
            ]
          },
          "metadata": {},
          "execution_count": 30
        }
      ]
    },
    {
      "cell_type": "markdown",
      "source": [
        "Lambda"
      ],
      "metadata": {
        "id": "-E1jP90n6Boz"
      }
    },
    {
      "cell_type": "code",
      "source": [
        "#normal function\n",
        "def times2(var):\n",
        "  return var*2"
      ],
      "metadata": {
        "id": "Vz8889B76FRb"
      },
      "execution_count": null,
      "outputs": []
    },
    {
      "cell_type": "code",
      "source": [
        "times2(5)"
      ],
      "metadata": {
        "colab": {
          "base_uri": "https://localhost:8080/"
        },
        "id": "Bvy8oEFc6U0H",
        "outputId": "fe275f35-bfaa-4454-81f5-ed672c1a5729"
      },
      "execution_count": null,
      "outputs": [
        {
          "output_type": "execute_result",
          "data": {
            "text/plain": [
              "10"
            ]
          },
          "metadata": {},
          "execution_count": 4
        }
      ]
    },
    {
      "cell_type": "code",
      "source": [
        "times2_v2= lambda var: var*2"
      ],
      "metadata": {
        "id": "S9kP-T1u6aLP"
      },
      "execution_count": null,
      "outputs": []
    },
    {
      "cell_type": "code",
      "source": [
        "times2_v2(5)"
      ],
      "metadata": {
        "colab": {
          "base_uri": "https://localhost:8080/"
        },
        "id": "RyPZoPO_6j_E",
        "outputId": "cf2af6de-0c6d-4627-ff91-c2b5f967a7a8"
      },
      "execution_count": null,
      "outputs": [
        {
          "output_type": "execute_result",
          "data": {
            "text/plain": [
              "10"
            ]
          },
          "metadata": {},
          "execution_count": 4
        }
      ]
    },
    {
      "cell_type": "code",
      "source": [],
      "metadata": {
        "id": "byi5Ao0p6orM"
      },
      "execution_count": null,
      "outputs": []
    },
    {
      "cell_type": "markdown",
      "source": [
        "Maps and Filters"
      ],
      "metadata": {
        "id": "nMpBONh_7o2p"
      }
    },
    {
      "cell_type": "code",
      "source": [
        "seq=[1,2,3,4,5]\n",
        "map(times2,seq)"
      ],
      "metadata": {
        "colab": {
          "base_uri": "https://localhost:8080/"
        },
        "id": "YzFllUMZ7rLD",
        "outputId": "309abdaa-095d-425e-c4d6-c672a6b460e9"
      },
      "execution_count": null,
      "outputs": [
        {
          "output_type": "execute_result",
          "data": {
            "text/plain": [
              "<map at 0x7b079caad030>"
            ]
          },
          "metadata": {},
          "execution_count": 6
        }
      ]
    },
    {
      "cell_type": "code",
      "source": [
        "list(map(times2,seq)) #Takes input parameters as a function and a list and iterates over the sequence to perform the function"
      ],
      "metadata": {
        "colab": {
          "base_uri": "https://localhost:8080/"
        },
        "id": "rVepaywY77zQ",
        "outputId": "ca103adf-a2e1-4971-c692-2859c6ed8cdb"
      },
      "execution_count": null,
      "outputs": [
        {
          "output_type": "execute_result",
          "data": {
            "text/plain": [
              "[2, 4, 6, 8, 10]"
            ]
          },
          "metadata": {},
          "execution_count": 7
        }
      ]
    },
    {
      "cell_type": "code",
      "source": [
        "list(map(lambda var:var*3,[8,9,5,7]))"
      ],
      "metadata": {
        "colab": {
          "base_uri": "https://localhost:8080/"
        },
        "id": "IPHr-xgY8Icl",
        "outputId": "e00c1496-2d3f-4072-ce37-d1e969e58cb6"
      },
      "execution_count": null,
      "outputs": [
        {
          "output_type": "execute_result",
          "data": {
            "text/plain": [
              "[24, 27, 15, 21]"
            ]
          },
          "metadata": {},
          "execution_count": 9
        }
      ]
    },
    {
      "cell_type": "markdown",
      "source": [
        "Filters\n",
        "\n"
      ],
      "metadata": {
        "id": "uiFvaVmDcxDT"
      }
    },
    {
      "cell_type": "code",
      "source": [
        "filter(lambda num:num%2,seq)"
      ],
      "metadata": {
        "colab": {
          "base_uri": "https://localhost:8080/"
        },
        "id": "httr4tIXc1uW",
        "outputId": "de01f24d-333c-4e4e-a187-0eb0bc52d677"
      },
      "execution_count": null,
      "outputs": [
        {
          "output_type": "execute_result",
          "data": {
            "text/plain": [
              "<filter at 0x7b079caae260>"
            ]
          },
          "metadata": {},
          "execution_count": 7
        }
      ]
    },
    {
      "cell_type": "code",
      "source": [
        "list(filter(lambda num:num%2==0,seq)) #returns only even numbers in the list"
      ],
      "metadata": {
        "colab": {
          "base_uri": "https://localhost:8080/"
        },
        "id": "wd5rvKStdEJp",
        "outputId": "126bbaa8-9765-45fb-d693-2137e3250f42"
      },
      "execution_count": null,
      "outputs": [
        {
          "output_type": "execute_result",
          "data": {
            "text/plain": [
              "[2, 4]"
            ]
          },
          "metadata": {},
          "execution_count": 9
        }
      ]
    },
    {
      "cell_type": "markdown",
      "source": [
        "#Methods of strings"
      ],
      "metadata": {
        "id": "Rb999lGKeV9C"
      }
    },
    {
      "cell_type": "code",
      "source": [
        "s=\"Hello! my name is Aish\""
      ],
      "metadata": {
        "id": "lSb7ciWJecNi"
      },
      "execution_count": null,
      "outputs": []
    },
    {
      "cell_type": "code",
      "source": [
        "s.lower()"
      ],
      "metadata": {
        "colab": {
          "base_uri": "https://localhost:8080/",
          "height": 36
        },
        "id": "ZoOCIEzJeqcQ",
        "outputId": "30db1665-b925-4390-d583-35d70b3012af"
      },
      "execution_count": null,
      "outputs": [
        {
          "output_type": "execute_result",
          "data": {
            "text/plain": [
              "'hello! my name is aish'"
            ],
            "application/vnd.google.colaboratory.intrinsic+json": {
              "type": "string"
            }
          },
          "metadata": {},
          "execution_count": 16
        }
      ]
    },
    {
      "cell_type": "code",
      "source": [
        "s.upper()"
      ],
      "metadata": {
        "colab": {
          "base_uri": "https://localhost:8080/",
          "height": 36
        },
        "id": "3cjxekNsesNX",
        "outputId": "997a6b92-6d69-462e-88c8-1f0d81f139fe"
      },
      "execution_count": null,
      "outputs": [
        {
          "output_type": "execute_result",
          "data": {
            "text/plain": [
              "'HELLO! MY NAME IS AISH'"
            ],
            "application/vnd.google.colaboratory.intrinsic+json": {
              "type": "string"
            }
          },
          "metadata": {},
          "execution_count": 17
        }
      ]
    },
    {
      "cell_type": "code",
      "source": [
        "s.split()"
      ],
      "metadata": {
        "colab": {
          "base_uri": "https://localhost:8080/"
        },
        "id": "wLhdB-Q3ets0",
        "outputId": "5baf44fc-38b0-4afc-caad-cca7ce467296"
      },
      "execution_count": null,
      "outputs": [
        {
          "output_type": "execute_result",
          "data": {
            "text/plain": [
              "['Hello!', 'my', 'name', 'is', 'Aish']"
            ]
          },
          "metadata": {},
          "execution_count": 18
        }
      ]
    },
    {
      "cell_type": "code",
      "source": [
        "s.split('!')"
      ],
      "metadata": {
        "colab": {
          "base_uri": "https://localhost:8080/"
        },
        "id": "3ecCl8K6evnE",
        "outputId": "85bc1d8c-d013-4d9e-e01a-e668cb3c24c8"
      },
      "execution_count": null,
      "outputs": [
        {
          "output_type": "execute_result",
          "data": {
            "text/plain": [
              "['Hello', ' my name is Aish']"
            ]
          },
          "metadata": {},
          "execution_count": 19
        }
      ]
    },
    {
      "cell_type": "code",
      "source": [
        "s[2]"
      ],
      "metadata": {
        "colab": {
          "base_uri": "https://localhost:8080/",
          "height": 36
        },
        "id": "mMVtAF2hfHTh",
        "outputId": "fec1c171-c49f-4d3c-d736-d08326f2df8e"
      },
      "execution_count": null,
      "outputs": [
        {
          "output_type": "execute_result",
          "data": {
            "text/plain": [
              "'l'"
            ],
            "application/vnd.google.colaboratory.intrinsic+json": {
              "type": "string"
            }
          },
          "metadata": {},
          "execution_count": 20
        }
      ]
    },
    {
      "cell_type": "code",
      "source": [
        "splitword=s.split()"
      ],
      "metadata": {
        "id": "4Il9-qsXfKnQ"
      },
      "execution_count": null,
      "outputs": []
    },
    {
      "cell_type": "code",
      "source": [
        "splitword[2]"
      ],
      "metadata": {
        "colab": {
          "base_uri": "https://localhost:8080/",
          "height": 36
        },
        "id": "Y4SvmteXfRxG",
        "outputId": "7cc006eb-c386-40a1-fc31-570068ac38a3"
      },
      "execution_count": null,
      "outputs": [
        {
          "output_type": "execute_result",
          "data": {
            "text/plain": [
              "'name'"
            ],
            "application/vnd.google.colaboratory.intrinsic+json": {
              "type": "string"
            }
          },
          "metadata": {},
          "execution_count": 22
        }
      ]
    },
    {
      "cell_type": "markdown",
      "source": [
        "#Methods of dictionary"
      ],
      "metadata": {
        "id": "qx5E_EWygXpP"
      }
    },
    {
      "cell_type": "code",
      "source": [
        "d={'k1':1,'k2':2,'k3':3}"
      ],
      "metadata": {
        "id": "HGrvAqu2fmnB"
      },
      "execution_count": null,
      "outputs": []
    },
    {
      "cell_type": "code",
      "source": [
        "d.keys()"
      ],
      "metadata": {
        "colab": {
          "base_uri": "https://localhost:8080/"
        },
        "id": "fOhbDeW9f0ne",
        "outputId": "be93b837-2965-4197-c05b-f4c9a6f761f1"
      },
      "execution_count": null,
      "outputs": [
        {
          "output_type": "execute_result",
          "data": {
            "text/plain": [
              "dict_keys(['k1', 'k2', 'k3'])"
            ]
          },
          "metadata": {},
          "execution_count": 25
        }
      ]
    },
    {
      "cell_type": "code",
      "source": [
        "d.values()"
      ],
      "metadata": {
        "colab": {
          "base_uri": "https://localhost:8080/"
        },
        "id": "Lh4cFgJ2f2UU",
        "outputId": "96721156-632e-4d8d-83f1-8d96eb0a8d0d"
      },
      "execution_count": null,
      "outputs": [
        {
          "output_type": "execute_result",
          "data": {
            "text/plain": [
              "dict_values([1, 2, 3])"
            ]
          },
          "metadata": {},
          "execution_count": 26
        }
      ]
    },
    {
      "cell_type": "code",
      "source": [
        "d.items()"
      ],
      "metadata": {
        "colab": {
          "base_uri": "https://localhost:8080/"
        },
        "id": "WVxYugISf6QN",
        "outputId": "c64d03e2-5750-4c62-cb8f-e5ac15f4fe0f"
      },
      "execution_count": null,
      "outputs": [
        {
          "output_type": "execute_result",
          "data": {
            "text/plain": [
              "dict_items([('k1', 1), ('k2', 2), ('k3', 3)])"
            ]
          },
          "metadata": {},
          "execution_count": 27
        }
      ]
    },
    {
      "cell_type": "code",
      "source": [],
      "metadata": {
        "id": "uv1Gt2CwgCFC"
      },
      "execution_count": null,
      "outputs": []
    },
    {
      "cell_type": "markdown",
      "source": [
        "#Methods of list"
      ],
      "metadata": {
        "id": "r0F7ysmegdK1"
      }
    },
    {
      "cell_type": "code",
      "source": [
        "lst=[1,2,3,4]"
      ],
      "metadata": {
        "id": "OuUk1JlKggUn"
      },
      "execution_count": null,
      "outputs": []
    },
    {
      "cell_type": "code",
      "source": [
        "lst.pop()#removes the last value in list"
      ],
      "metadata": {
        "colab": {
          "base_uri": "https://localhost:8080/"
        },
        "id": "mK7DhYoqgxxZ",
        "outputId": "1cbb9c28-139c-4bb1-a8ff-40ef3d30c304"
      },
      "execution_count": null,
      "outputs": [
        {
          "output_type": "execute_result",
          "data": {
            "text/plain": [
              "4"
            ]
          },
          "metadata": {},
          "execution_count": 30
        }
      ]
    },
    {
      "cell_type": "code",
      "source": [
        "lst"
      ],
      "metadata": {
        "colab": {
          "base_uri": "https://localhost:8080/"
        },
        "id": "WfltJijwgzRy",
        "outputId": "f8205ff9-4bcc-478a-c0dd-93dec906b5cc"
      },
      "execution_count": null,
      "outputs": [
        {
          "output_type": "execute_result",
          "data": {
            "text/plain": [
              "[1, 2, 3]"
            ]
          },
          "metadata": {},
          "execution_count": 31
        }
      ]
    },
    {
      "cell_type": "code",
      "source": [
        "lst.append(4)"
      ],
      "metadata": {
        "id": "Jq78InUyg0dh"
      },
      "execution_count": null,
      "outputs": []
    },
    {
      "cell_type": "code",
      "source": [
        "lst"
      ],
      "metadata": {
        "colab": {
          "base_uri": "https://localhost:8080/"
        },
        "id": "7KGudkFfg7rP",
        "outputId": "3afbb494-b969-4eab-845d-cda81189ed0e"
      },
      "execution_count": null,
      "outputs": [
        {
          "output_type": "execute_result",
          "data": {
            "text/plain": [
              "[1, 2, 3, 4]"
            ]
          },
          "metadata": {},
          "execution_count": 36
        }
      ]
    },
    {
      "cell_type": "code",
      "source": [
        "lst.pop(2)# last 2nd item will be removed"
      ],
      "metadata": {
        "colab": {
          "base_uri": "https://localhost:8080/"
        },
        "id": "puMA2ALXg_gH",
        "outputId": "346af93a-467a-471c-a9e9-05ea19084ab9"
      },
      "execution_count": null,
      "outputs": [
        {
          "output_type": "execute_result",
          "data": {
            "text/plain": [
              "3"
            ]
          },
          "metadata": {},
          "execution_count": 37
        }
      ]
    },
    {
      "cell_type": "code",
      "source": [
        "lst"
      ],
      "metadata": {
        "colab": {
          "base_uri": "https://localhost:8080/"
        },
        "id": "0ur03Oq2hMZH",
        "outputId": "4dcf7140-b245-4329-f428-6dc8749e93d8"
      },
      "execution_count": null,
      "outputs": [
        {
          "output_type": "execute_result",
          "data": {
            "text/plain": [
              "[1, 2, 4]"
            ]
          },
          "metadata": {},
          "execution_count": 38
        }
      ]
    },
    {
      "cell_type": "code",
      "source": [],
      "metadata": {
        "id": "xMAcPkvbhNp1"
      },
      "execution_count": null,
      "outputs": []
    },
    {
      "cell_type": "markdown",
      "source": [
        "#In operator"
      ],
      "metadata": {
        "id": "RS4UAFNshXiS"
      }
    },
    {
      "cell_type": "code",
      "source": [
        "items=[1,5,4,10]"
      ],
      "metadata": {
        "id": "N03aI8GEhZu0"
      },
      "execution_count": null,
      "outputs": []
    },
    {
      "cell_type": "code",
      "source": [
        "5 in items"
      ],
      "metadata": {
        "colab": {
          "base_uri": "https://localhost:8080/"
        },
        "id": "dX-BlanJhfPq",
        "outputId": "b0d4268c-a081-4247-a44a-17118a968bba"
      },
      "execution_count": null,
      "outputs": [
        {
          "output_type": "execute_result",
          "data": {
            "text/plain": [
              "True"
            ]
          },
          "metadata": {},
          "execution_count": 40
        }
      ]
    },
    {
      "cell_type": "code",
      "source": [
        "3 in items"
      ],
      "metadata": {
        "id": "wjnwfEfUhhqG",
        "outputId": "da8283b3-2fe5-42ba-f565-e59fb98d1cc5",
        "colab": {
          "base_uri": "https://localhost:8080/"
        }
      },
      "execution_count": null,
      "outputs": [
        {
          "output_type": "execute_result",
          "data": {
            "text/plain": [
              "False"
            ]
          },
          "metadata": {},
          "execution_count": 42
        }
      ]
    },
    {
      "cell_type": "code",
      "source": [],
      "metadata": {
        "id": "cQyLXJ45hj82"
      },
      "execution_count": null,
      "outputs": []
    }
  ]
}